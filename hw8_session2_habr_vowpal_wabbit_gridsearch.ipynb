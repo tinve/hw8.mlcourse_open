{
 "cells": [
  {
   "cell_type": "code",
   "execution_count": 356,
   "metadata": {},
   "outputs": [],
   "source": [
    "from __future__ import division\n",
    "\n",
    "import numpy as np\n",
    "import pandas as pd\n",
    "import os\n",
    "import codecs\n",
    "\n",
    "from sklearn.metrics import mean_absolute_error\n",
    "from subprocess import call\n",
    "from itertools import product\n",
    "from tqdm import tqdm_notebook\n",
    "\n",
    "from custom_vw import holdout_cv_vw\n",
    "\n",
    "pd.set_option('display.max_colwidth', 200)"
   ]
  },
  {
   "cell_type": "markdown",
   "metadata": {},
   "source": [
    "# Cross Validation"
   ]
  },
  {
   "cell_type": "code",
   "execution_count": 357,
   "metadata": {},
   "outputs": [
    {
     "name": "stdout",
     "output_type": "stream",
     "text": [
      "vw -c -k -d ../../data/data.hw8/tmp/train.vw -f ../../data/data.hw8/tmp/model.vw \n",
      "vw -i ../../data/data.hw8/tmp/model.vw -t -d ../../data/data.hw8/tmp/train.vw -p ../../data/data.hw8/tmp/train_p.txt\n",
      "vw -i ../../data/data.hw8/tmp/model.vw -t -d ../../data/data.hw8/tmp/valid.vw -p ../../data/data.hw8/tmp/valid_p.txt\n"
     ]
    },
    {
     "data": {
      "text/plain": [
       "(0.9313918272291668, 0.89263090245833332)"
      ]
     },
     "execution_count": 357,
     "metadata": {},
     "output_type": "execute_result"
    }
   ],
   "source": [
    "# paths to files\n",
    "train_file_vw = '../../data/data.hw8/habr_train.vw'\n",
    "test_file_vw  = '../../data/data.hw8/habr_test.vw'\n",
    "to_dir = 'tmp'\n",
    "\n",
    "# cross-validation parameters\n",
    "scoring = mean_absolute_error\n",
    "train_length = 120000\n",
    "test_fraction = 1/5\n",
    "train_size = int(train_length * (1-test_fraction))\n",
    "random_state=42\n",
    "\n",
    "# use whenever vw file format is changed to create new validation sets\n",
    "holdout_cv_vw(train_file_vw = train_file_vw,\n",
    "              train_size = train_size,\n",
    "              to_dir = to_dir,\n",
    "              scoring = scoring,\n",
    "              make_sets = True,\n",
    "              mute = False)"
   ]
  },
  {
   "cell_type": "code",
   "execution_count": 358,
   "metadata": {},
   "outputs": [
    {
     "name": "stdout",
     "output_type": "stream",
     "text": [
      "1.386294 |title прямая текстовая трансляция с macworld 2009 |xtags apple macworld 2009 прямая трансляция |domain geektimes.ru |author @alfsoft |hubs IT-компании |num content_len:0.02 month:1 hour:18 |mynum link:5 user:0 image:78 video:0 day:1 weekday:1 weekend:0 year:2009 |weekday Tue |description здравствуйте друзья это стало хабрахабре уже традицией сегодня этом топике проводится текстовая трансляция macworld conference expo 2009\r\n",
      "0.693147 |title и снова о подставках для ноутбука |xtags подставка кулер Akasa LIBRA |domain geektimes.ru |author @Tylerskald |hubs Железо |num content_len:0.0 month:1 hour:19 |mynum link:6 user:0 image:2 video:0 day:1 weekday:1 weekend:0 year:2009 |weekday Tue |description компания akasa одной специализаций которой является выпуск разного рода внешних кулеров примочек для ноутбуков анонсировала выпуск новых ноутбучных\r\n"
     ]
    }
   ],
   "source": [
    "!head -2 ../../data/data.hw8/tmp/valid.vw"
   ]
  },
  {
   "cell_type": "markdown",
   "metadata": {},
   "source": [
    "```\n",
    "Features:\n",
    "    title: exact title. Modicfication: to lower()\n",
    "    xtags: exact tags, space-separated\n",
    "    domain: exact domain\n",
    "    author: exact author (nickname)\n",
    "    hubs: exact hubs\n",
    "    num: content_len, in millions, rounded to third decimal,\n",
    "         month\n",
    "         hour\n",
    "    mynum: link: number of links in content\n",
    "           user: number of links to users in content\n",
    "           image: number of images in content\n",
    "           video: number of videos in content\n",
    "           day: day of month, int\n",
    "           weekday: weekday, int\n",
    "           weekend: binary, weekend or not\n",
    "    weekday: weekday, str   \n",
    "    description: trunkated content, same transform\n",
    "    \n",
    "#     flow: none for everyone? ignore it <- useless, removed    \n",
    "#     content: content to lower, keep only 3+ long words <- useless, removed    \n",
    "#     month: string month <- useless, removed\n",
    "```"
   ]
  },
  {
   "cell_type": "markdown",
   "metadata": {},
   "source": [
    "# Grid Search"
   ]
  },
  {
   "cell_type": "code",
   "execution_count": 360,
   "metadata": {},
   "outputs": [
    {
     "name": "stdout",
     "output_type": "stream",
     "text": [
      "1 models to train\n"
     ]
    }
   ],
   "source": [
    "# PARAMETERS TO TUNE\n",
    "params = [\n",
    "    ('passes',        [3]),\n",
    "    ('ngram',         [2]), # title    \n",
    "    \n",
    "    ('learning_rate', [0.3]),\n",
    "    ('power_t',       [0.17]),\n",
    "    ('bit_precision', [28]),\n",
    "    \n",
    "#     ('ignore',        ['t']), # title\n",
    "#     ('ignore',        ['x']), # tags\n",
    "#     ('ignore',        ['d']), # domain\n",
    "#     ('ignore',        ['a']), # author\n",
    "#     ('ignore',        ['h']), # hubs\n",
    "#     ('ignore',        ['m']), # mynum\n",
    "\n",
    "#     ('ignore',        ['l']), # link    \n",
    "#     ('ignore',        ['u']), # user  \n",
    "#     ('ignore',        ['i']), # image \n",
    "#     ('ignore',        ['v']), # video    \n",
    "\n",
    "#     ('ignore',        ['w']), # weekday (string) \n",
    "#     ('ignore',        ['h']), # weekend or not  \n",
    "#     ('ignore',        ['d']), # description\n",
    "    \n",
    "#    ('quadratic',        ['vi']),\n",
    "#    ('quadratic',        ['nw']),\n",
    "    \n",
    "#     ('l1',             ['0.000001']),\n",
    "#     ('l2',             ['0.000001']),\n",
    "]\n",
    "\n",
    "note = 'title.lower link_int user_int video_int image_int weekday_str weekend_bin desc'\n",
    "\n",
    "param_names = [p[0] for p in params]\n",
    "param_combos = list(product(*[p[1] for p in params]))\n",
    "param_list = []\n",
    "for param_combo in param_combos:\n",
    "    s = ''\n",
    "    for i, p in enumerate(param_combo):\n",
    "        if p != '':\n",
    "            s += '--' + param_names[i] + ' ' + str(p) + ' '\n",
    "    param_list.append(s[:-1])\n",
    "print str(len(param_list)) + ' models to train'"
   ]
  },
  {
   "cell_type": "code",
   "execution_count": 361,
   "metadata": {
    "scrolled": true
   },
   "outputs": [],
   "source": [
    "# !vw -i ../../data/data.hw8/tmp/model.vw -t -d ../../data/data.hw8/tmp/train.vw -p ../../data/data.hw8/tmp/train_p.txt"
   ]
  },
  {
   "cell_type": "code",
   "execution_count": 362,
   "metadata": {},
   "outputs": [],
   "source": [
    "# with open('../../data/data.hw8/tmp/train_y.txt') as f:\n",
    "#     train_y = [float(label) for label in f.readlines()]\n",
    "\n",
    "# with open('../../data/data.hw8/tmp/train_y.txt') as f:\n",
    "#     train_p = [float(label) for label in f.readlines()]\n",
    "# len(train_p), len(train_y)"
   ]
  },
  {
   "cell_type": "code",
   "execution_count": 363,
   "metadata": {},
   "outputs": [],
   "source": [
    "# !vw -c -k -d ../../data/data.hw8/tmp/train.vw -f ../../data/data.hw8/tmp/model.vw --passes 3 --ngram 2 --learning_rate 0.3 --power_t 0.4 --bit_precision 29 --ignore  --ignore m --ignore  --l1 0 --l2 0"
   ]
  },
  {
   "cell_type": "code",
   "execution_count": 364,
   "metadata": {},
   "outputs": [
    {
     "data": {
      "application/vnd.jupyter.widget-view+json": {
       "model_id": "74871646d2ac44baa4b9d9d49dc070d3"
      }
     },
     "metadata": {},
     "output_type": "display_data"
    },
    {
     "name": "stdout",
     "output_type": "stream",
     "text": [
      "\n"
     ]
    }
   ],
   "source": [
    "for i, train_params in enumerate(tqdm_notebook(param_list, total = len(param_list))):\n",
    "      \n",
    "    train_score, valid_score = holdout_cv_vw(\n",
    "        train_file_vw = train_file_vw,\n",
    "        train_size = train_size,\n",
    "        train_params = train_params,\n",
    "        to_dir = to_dir,\n",
    "        scoring = scoring,\n",
    "        make_sets = False,\n",
    "        mute = True)\n",
    "    # write to log\n",
    "    log = \"{0:.4f}\".format(train_score) + ', ' + \"{0:.4f}\".format(valid_score) + ', ' +train_params + \\\n",
    "          ', ' + note + '\\n'\n",
    "    with open('../../data/data.hw8/log.txt', 'a') as f:\n",
    "        f.write(log)    "
   ]
  },
  {
   "cell_type": "code",
   "execution_count": 366,
   "metadata": {
    "scrolled": false
   },
   "outputs": [
    {
     "data": {
      "text/html": [
       "<div>\n",
       "<style>\n",
       "    .dataframe thead tr:only-child th {\n",
       "        text-align: right;\n",
       "    }\n",
       "\n",
       "    .dataframe thead th {\n",
       "        text-align: left;\n",
       "    }\n",
       "\n",
       "    .dataframe tbody tr th {\n",
       "        vertical-align: top;\n",
       "    }\n",
       "</style>\n",
       "<table border=\"1\" class=\"dataframe\">\n",
       "  <thead>\n",
       "    <tr style=\"text-align: right;\">\n",
       "      <th></th>\n",
       "      <th>train score</th>\n",
       "      <th>valid score</th>\n",
       "      <th>params</th>\n",
       "      <th>note</th>\n",
       "    </tr>\n",
       "  </thead>\n",
       "  <tbody>\n",
       "    <tr>\n",
       "      <th>17</th>\n",
       "      <td>0.6515</td>\n",
       "      <td>0.8264</td>\n",
       "      <td>--passes 3 --ngram 2 --learning_rate 0.3 --power_t 0.17 --bit_precision 28</td>\n",
       "      <td>title.lower link_int user_int video_int image_int weekday_str weekend_bin desc</td>\n",
       "    </tr>\n",
       "    <tr>\n",
       "      <th>0</th>\n",
       "      <td>0.6915</td>\n",
       "      <td>0.8431</td>\n",
       "      <td>--passes 3 --ngram 2 --learning_rate 0.3 --power_t 0.17 --bit_precision 28</td>\n",
       "      <td>title.lower link_int user_int video_int image_int weekday_str weekend_bin desc</td>\n",
       "    </tr>\n",
       "    <tr>\n",
       "      <th>16</th>\n",
       "      <td>0.9887</td>\n",
       "      <td>0.8486</td>\n",
       "      <td>--passes 3 --ngram 2 --learning_rate 0.3 --power_t 0.17 --bit_precision 28 --l1 0.000001 --l2 0.000001</td>\n",
       "      <td>title.lower link_int user_int video_int image_int weekday_str weekend_bin desc</td>\n",
       "    </tr>\n",
       "    <tr>\n",
       "      <th>3</th>\n",
       "      <td>0.7990</td>\n",
       "      <td>0.8495</td>\n",
       "      <td>--passes 3 --ngram 2 --learning_rate 0.4 --power_t 0.2 --bit_precision 28</td>\n",
       "      <td>title.lower link_int user_int video_int image_int weekday_str weekend_bin desc</td>\n",
       "    </tr>\n",
       "    <tr>\n",
       "      <th>1</th>\n",
       "      <td>0.8266</td>\n",
       "      <td>0.8497</td>\n",
       "      <td>--passes 3 --ngram 2 --learning_rate 0.3 --power_t 0.17 --bit_precision 28</td>\n",
       "      <td>title.lower link_int user_int video_int image_int weekday_str weekend_bin desc</td>\n",
       "    </tr>\n",
       "    <tr>\n",
       "      <th>7</th>\n",
       "      <td>0.7818</td>\n",
       "      <td>0.8524</td>\n",
       "      <td>--passes 3 --ngram 2 --learning_rate 0.8 --power_t 0.2 --bit_precision 28</td>\n",
       "      <td>title.lower link_int user_int video_int image_int weekday_str weekend_bin desc</td>\n",
       "    </tr>\n",
       "    <tr>\n",
       "      <th>11</th>\n",
       "      <td>0.7786</td>\n",
       "      <td>0.8542</td>\n",
       "      <td>--passes 3 --ngram 2 --learning_rate 1.2 --power_t 0.2 --bit_precision 28</td>\n",
       "      <td>title.lower link_int user_int video_int image_int weekday_str weekend_bin desc</td>\n",
       "    </tr>\n",
       "    <tr>\n",
       "      <th>4</th>\n",
       "      <td>0.6641</td>\n",
       "      <td>0.8652</td>\n",
       "      <td>--passes 3 --ngram 2 --learning_rate 0.4 --power_t 0.4 --bit_precision 28</td>\n",
       "      <td>title.lower link_int user_int video_int image_int weekday_str weekend_bin desc</td>\n",
       "    </tr>\n",
       "    <tr>\n",
       "      <th>2</th>\n",
       "      <td>0.8588</td>\n",
       "      <td>0.8667</td>\n",
       "      <td>--passes 3 --ngram 2 --learning_rate 0.3 --power_t 0.17 --bit_precision 28 --ignore m</td>\n",
       "      <td>title.lower link_int user_int video_int image_int weekday_str weekend_bin desc</td>\n",
       "    </tr>\n",
       "    <tr>\n",
       "      <th>8</th>\n",
       "      <td>0.6453</td>\n",
       "      <td>0.8698</td>\n",
       "      <td>--passes 3 --ngram 2 --learning_rate 0.8 --power_t 0.4 --bit_precision 28</td>\n",
       "      <td>title.lower link_int user_int video_int image_int weekday_str weekend_bin desc</td>\n",
       "    </tr>\n",
       "  </tbody>\n",
       "</table>\n",
       "</div>"
      ],
      "text/plain": [
       "    train score  valid score  \\\n",
       "17       0.6515       0.8264   \n",
       "0        0.6915       0.8431   \n",
       "16       0.9887       0.8486   \n",
       "3        0.7990       0.8495   \n",
       "1        0.8266       0.8497   \n",
       "7        0.7818       0.8524   \n",
       "11       0.7786       0.8542   \n",
       "4        0.6641       0.8652   \n",
       "2        0.8588       0.8667   \n",
       "8        0.6453       0.8698   \n",
       "\n",
       "                                                                                                     params  \\\n",
       "17                               --passes 3 --ngram 2 --learning_rate 0.3 --power_t 0.17 --bit_precision 28   \n",
       "0                                --passes 3 --ngram 2 --learning_rate 0.3 --power_t 0.17 --bit_precision 28   \n",
       "16   --passes 3 --ngram 2 --learning_rate 0.3 --power_t 0.17 --bit_precision 28 --l1 0.000001 --l2 0.000001   \n",
       "3                                 --passes 3 --ngram 2 --learning_rate 0.4 --power_t 0.2 --bit_precision 28   \n",
       "1                                --passes 3 --ngram 2 --learning_rate 0.3 --power_t 0.17 --bit_precision 28   \n",
       "7                                 --passes 3 --ngram 2 --learning_rate 0.8 --power_t 0.2 --bit_precision 28   \n",
       "11                                --passes 3 --ngram 2 --learning_rate 1.2 --power_t 0.2 --bit_precision 28   \n",
       "4                                 --passes 3 --ngram 2 --learning_rate 0.4 --power_t 0.4 --bit_precision 28   \n",
       "2                     --passes 3 --ngram 2 --learning_rate 0.3 --power_t 0.17 --bit_precision 28 --ignore m   \n",
       "8                                 --passes 3 --ngram 2 --learning_rate 0.8 --power_t 0.4 --bit_precision 28   \n",
       "\n",
       "                                                                               note  \n",
       "17   title.lower link_int user_int video_int image_int weekday_str weekend_bin desc  \n",
       "0    title.lower link_int user_int video_int image_int weekday_str weekend_bin desc  \n",
       "16   title.lower link_int user_int video_int image_int weekday_str weekend_bin desc  \n",
       "3    title.lower link_int user_int video_int image_int weekday_str weekend_bin desc  \n",
       "1    title.lower link_int user_int video_int image_int weekday_str weekend_bin desc  \n",
       "7    title.lower link_int user_int video_int image_int weekday_str weekend_bin desc  \n",
       "11   title.lower link_int user_int video_int image_int weekday_str weekend_bin desc  \n",
       "4    title.lower link_int user_int video_int image_int weekday_str weekend_bin desc  \n",
       "2    title.lower link_int user_int video_int image_int weekday_str weekend_bin desc  \n",
       "8    title.lower link_int user_int video_int image_int weekday_str weekend_bin desc  "
      ]
     },
     "execution_count": 366,
     "metadata": {},
     "output_type": "execute_result"
    }
   ],
   "source": [
    "log = pd.read_csv('../../data/data.hw8/log.txt',\n",
    "                  names = ['train score', 'valid score', 'params', 'note'], index_col=False)\n",
    "log = log.sort_values(by = ['valid score', 'train score']) #.reset_index(drop=True)\n",
    "log.head(10)"
   ]
  },
  {
   "cell_type": "code",
   "execution_count": 367,
   "metadata": {},
   "outputs": [
    {
     "name": "stdout",
     "output_type": "stream",
     "text": [
      "vw -c -k -d ../../data/data.hw8/habr_train.vw -f ../../data/data.hw8/model.vw  --passes 3 --ngram 2 --learning_rate 0.3 --power_t 0.17 --bit_precision 28\n",
      "vw -i ../../data/data.hw8/model.vw -t -d ../../data/data.hw8/habr_test.vw -p ../../data/data.hw8/tmp.txt\n"
     ]
    }
   ],
   "source": [
    "best_params = log.iloc[0]['params']\n",
    "valid_score = log.iloc[0]['valid score']\n",
    "\n",
    "command = 'vw -c -k -d ../../data/data.hw8/habr_train.vw -f ../../data/data.hw8/model.vw ' + best_params\n",
    "print command\n",
    "call(command.split())\n",
    "command = 'vw -i ../../data/data.hw8/model.vw -t -d ../../data/data.hw8/habr_test.vw -p ' + \\\n",
    "              '../../data/data.hw8/tmp.txt'\n",
    "print command\n",
    "call(command.split())\n",
    "\n",
    "with open('../../data/data.hw8/tmp.txt') as f:\n",
    "    pred = [float(label) for label in f.readlines()]\n",
    "    \n",
    "sub = pd.read_csv('../../data/data.hw8/sample_submission.csv', index_col='url')\n",
    "sub['target'] = pred\n",
    "\n",
    "name = \"{0:.4f}\".format(valid_score) + ' ' + best_params + '.csv'\n",
    "sub.to_csv('../../data/data.hw8/' + name)"
   ]
  },
  {
   "cell_type": "markdown",
   "metadata": {},
   "source": [
    "Выбор того, как валидировать модель, остается за Вами. Проще всего, конечно, сделать отложенную выборку. Бенчмарк, который Вы видите в соревновании (**vw_baseline.csv**) и который надо побить, получен с Vowpal Wabbit, 3 проходами по выборке (не забываем удалять кэш), биграммами и настроенными гиперпараметрами `bits`, `learning_rate` и `power_t`. "
   ]
  },
  {
   "cell_type": "code",
   "execution_count": null,
   "metadata": {},
   "outputs": [],
   "source": []
  }
 ],
 "metadata": {
  "kernelspec": {
   "display_name": "Python 2",
   "language": "python",
   "name": "python2"
  },
  "language_info": {
   "codemirror_mode": {
    "name": "ipython",
    "version": 2
   },
   "file_extension": ".py",
   "mimetype": "text/x-python",
   "name": "python",
   "nbconvert_exporter": "python",
   "pygments_lexer": "ipython2",
   "version": "2.7.12"
  }
 },
 "nbformat": 4,
 "nbformat_minor": 2
}
