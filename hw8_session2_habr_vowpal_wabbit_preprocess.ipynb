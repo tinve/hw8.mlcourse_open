{
 "cells": [
  {
   "cell_type": "code",
   "execution_count": 128,
   "metadata": {},
   "outputs": [],
   "source": [
    "from __future__ import division\n",
    "\n",
    "import numpy as np\n",
    "import pandas as pd\n",
    "import json\n",
    "import codecs\n",
    "import os\n",
    "import re\n",
    "\n",
    "from tqdm import tqdm_notebook\n",
    "from datetime import datetime"
   ]
  },
  {
   "cell_type": "markdown",
   "metadata": {},
   "source": [
    "Посмотрим на одну из строчек в JSON-файле: считаем ее с помощью библиотеки json. Эта строчка соответствует [7-ой статье](https://habrahabr.ru/post/7/) на Хабре."
   ]
  },
  {
   "cell_type": "code",
   "execution_count": 129,
   "metadata": {},
   "outputs": [],
   "source": [
    "!head -1 ../../data/data.hw8/train.json > ../../data/data.hw8/train1.json\n",
    "with codecs.open('../../data/data.hw8/train1.json', 'r', 'utf-8') as inp_json:\n",
    "    first_json = json.load(inp_json)\n",
    "os.remove('../../data/data.hw8/train1.json')\n",
    "\n",
    "target = pd.read_csv('../../data/data.hw8/train_target.csv', index_col='url')\n",
    "sub = pd.read_csv('../../data/data.hw8/sample_submission.csv', index_col='url')"
   ]
  },
  {
   "cell_type": "code",
   "execution_count": 130,
   "metadata": {},
   "outputs": [
    {
     "name": "stdout",
     "output_type": "stream",
     "text": [
      "{\n",
      "    \"domain\": \"habrahabr.ru\", \n",
      "    \"_timestamp\": 1493192186.0903192, \n",
      "    \"meta_tags\": {\n",
      "        \"msapplication-TileColor\": \"#FFFFFF\", \n",
      "        \"application-name\": \"Хабрахабр\", \n",
      "        \"fb:app_id\": \"444736788986613\", \n",
      "        \"twitter:site\": \"@habrahabr\", \n",
      "        \"al:windows_phone:app_name\": \"Habrahabr\", \n",
      "        \"og:url\": \"https://habrahabr.ru/post/7/\", \n",
      "        \"pocket-site-verification\": \"ed24b2b9721edf0a282c5b4a3232c4\", \n",
      "        \"og:type\": \"article\", \n",
      "        \"al:android:package\": \"ru.habrahabr\", \n",
      "        \"viewport\": \"width=1024\", \n",
      "        \"og:title\": \"Самопроизвольное разлогинивание\", \n",
      "        \"description\": \"У меня такое ощущение, что logout время от времени происходит самопроизвольно, несмотря на то, что чекбокс про логине включен.\\r\\n\\r\\nВозможно, это происходит при смене IP-адреса, но я не уверен.\", \n",
      "        \"robots\": \"noindex\", \n",
      "        \"msapplication-TileImage\": \"mstile-144x144.png\", \n",
      "        \"al:android:app_name\": \"Habrahabr\", \n",
      "        \"og:image\": \"https://habrahabr.ru/i/habralogo.jpg\", \n",
      "        \"al:windows_phone:url\": \"habrahabr://post/7\", \n",
      "        \"al:windows_phone:app_id\": \"460a6bd6-8955-470f-935e-9ea1726a6060\", \n",
      "        \"twitter:card\": \"summary\", \n",
      "        \"referrer\": \"unsafe-url\", \n",
      "        \"apple-mobile-web-app-title\": \"Хабрахабр\", \n",
      "        \"og:description\": \"У меня такое ощущение, что logout время от времени происходит самопроизвольно, несмотря на то, что чекбокс про логине включен.  Возможно, это происходит при...\", \n",
      "        \"keywords\": \"логин, login\", \n",
      "        \"al:android:url\": \"habrahabr://post/7\", \n",
      "        \"yandex-verification\": \"67d46b975fa41645\"\n",
      "    }, \n",
      "    \"author\": {\n",
      "        \"url\": \"https://habrahabr.ru/users/ptitov\", \n",
      "        \"nickname\": \"@ptitov\", \n",
      "        \"name\": \"Павел Титов\"\n",
      "    }, \n",
      "    \"title\": \"Самопроизвольное разлогинивание\", \n",
      "    \"url\": \"https://habrahabr.ru/post/7/\", \n",
      "    \"tags\": [\n",
      "        \"логин\", \n",
      "        \"login\"\n",
      "    ], \n",
      "    \"flow\": null, \n",
      "    \"link_tags\": {\n",
      "        \"alternate\": \"https://habrahabr.ru/rss/post/7/\", \n",
      "        \"apple-touch-icon-precomposed\": \"/images/favicons/apple-touch-icon-152x152.png\", \n",
      "        \"stylesheet\": \"https://habracdn.net/habr/styles/1493134745/_build/global_main.css\", \n",
      "        \"canonical\": \"https://habrahabr.ru/post/7/\", \n",
      "        \"image_src\": \"https://habrahabr.ru/i/habralogo.jpg\", \n",
      "        \"icon\": \"/images/favicons/favicon-16x16.png\"\n",
      "    }, \n",
      "    \"content\": \"У меня такое ощущение, что logout время от времени происходит самопроизвольно, несмотря на то, что чекбокс про логине включен.<br>\\r\\n<br>\\r\\nВозможно, это происходит при смене IP-адреса, но я не уверен.\", \n",
      "    \"post_id\": 7, \n",
      "    \"flags\": [], \n",
      "    \"polling\": null, \n",
      "    \"published\": {\n",
      "        \"$date\": \"2006-07-15T01:48:00.000Z\"\n",
      "    }, \n",
      "    \"hubs\": [\n",
      "        {\n",
      "            \"url\": \"https://habrahabr.ru/hub/habr/\", \n",
      "            \"id\": \"hub/habr\", \n",
      "            \"title\": \"Хабрахабр\"\n",
      "        }\n",
      "    ], \n",
      "    \"_id\": \"https://habrahabr.ru/post/7/\"\n",
      "}\n"
     ]
    }
   ],
   "source": [
    "print(json.dumps(first_json, indent=4, sort_keys=False, ensure_ascii=False))"
   ]
  },
  {
   "cell_type": "markdown",
   "metadata": {},
   "source": [
    "Видим 16 полей, перечислим некоторые из них:\n",
    "- _id, url - URL статьи\n",
    "- published – время публикации статьи\n",
    "- domain – сайт (например, habrahahbr.ru или geektimes.ru)\n",
    "- title – название статьи\n",
    "- content – текст статьи\n",
    "- hubs - перечисление хабов, к которым относится статья\n",
    "- tags – теги статьи\n",
    "- author – автор статьи, его ник и ссылка на профиль\n",
    "\n",
    "Сформируйте обучающую выборку для Vowpal Wabbit, выберите признаки title, tags, domain, flow, author, и hubs из JSON-файла. От самого текста для начала просто возьмем его длину: постройте признак content_len – длина текста в миллионах символов. Также постройте признаки: час и месяц публикации статьи. Еще, конечно же, возьмите ответы на обучающей выборке из `train_target`."
   ]
  },
  {
   "cell_type": "code",
   "execution_count": 134,
   "metadata": {},
   "outputs": [],
   "source": [
    "def to_vw_format(document, label=1):\n",
    "    r = str(label) # start with label, add all string-like features\n",
    "    \n",
    "    r += ' |title '  + document['title'].lower().replace('|', '') + \\\n",
    "         ' |xtags '  + ' '.join(document['tags']).replace('|', '') + \\\n",
    "         ' |domain ' + document['domain'].replace('|', '') + \\\n",
    "         ' |flow '   + str(document['flow']).replace('|', '') + \\         between domain and author  \n",
    "         ' |author ' + (document['author']['nickname'] or 'None').replace('|', '') + \\\n",
    "         ' |hubs '   + document['hubs'][0]['title'].replace('|', '')\n",
    "\n",
    " \n",
    "            \n",
    "    r = r.replace(':', '')        # remove all colons\n",
    "    r = r.replace(u'\\u2028', '')  # remove bullet symbol\n",
    "    \n",
    "    # add numerical features\n",
    "    pub = datetime.strptime(document['published']['$date'], '%Y-%m-%dT%H:%M:%S.%fZ')\n",
    "    r += ' |num' + \\\n",
    "         ' content_len:' + str( round(len(document['content']) / 10**6, 2 )) + \\\n",
    "         ' month:'      + str(pub.month) + \\\n",
    "         ' hour:'       + str(pub.hour)\n",
    "    \n",
    "    # add my features\n",
    "#     r += ' |content ' + ' '.join(re.findall(r'(?u)\\w{3,}', document['content'].lower())).replace('|', '')\n",
    "#     r += ' |month '   + pub.strftime(\"%b\")\n",
    "\n",
    "    r += ' |link:' + str(document['content'].count('<a href='))\n",
    "    r += ' |user:' + str(document['content'].count('user_link'))\n",
    "    r += ' |video:' + str(document['content'].count('iframe width'))\n",
    "    r += ' |image:' + str(document['content'].count('img src'))\n",
    "    r += ' |weekday ' + pub.strftime(\"%a\")\n",
    "    r += ' |holiday:' + str(int(pub.weekday() > 4))\n",
    "    description = (document['meta_tags']['og:description'] or 'None')\n",
    "    r += ' |description ' + ' '.join(re.findall(r'(?u)\\w{3,}', description.lower()))\n",
    "    \n",
    "    return r + '\\n'"
   ]
  },
  {
   "cell_type": "markdown",
   "metadata": {},
   "source": [
    "# Demo on first record"
   ]
  },
  {
   "cell_type": "code",
   "execution_count": 135,
   "metadata": {},
   "outputs": [
    {
     "name": "stdout",
     "output_type": "stream",
     "text": [
      "0.693147 |title самопроизвольное разлогинивание |xtags логин login |domain habrahabr.ru |author @ptitov |hubs Хабрахабр |num content_len:0.0 month:7 hour:1 |link:0 |user:0 |video:0 |image:0 |weekday Sat |holiday:1 |description меня такое ощущение что logout время времени происходит самопроизвольно несмотря что чекбокс про логине включен возможно это происходит при\n",
      "\n"
     ]
    }
   ],
   "source": [
    "print to_vw_format(first_json, target.iloc[0]['target'])"
   ]
  },
  {
   "cell_type": "markdown",
   "metadata": {},
   "source": [
    "# Process train and test"
   ]
  },
  {
   "cell_type": "code",
   "execution_count": 136,
   "metadata": {},
   "outputs": [
    {
     "data": {
      "application/vnd.jupyter.widget-view+json": {
       "model_id": "11d68f6664da40429d93cca7d29b5fc3"
      }
     },
     "metadata": {},
     "output_type": "display_data"
    },
    {
     "name": "stdout",
     "output_type": "stream",
     "text": [
      "\n",
      "120000 lines in train set\n"
     ]
    }
   ],
   "source": [
    "with open('../../data/data.hw8/train.json') as inp_json, \\\n",
    "      codecs.open('../../data/data.hw8/habr_train.vw', 'w', 'utf-8') as out_vw:\n",
    "    for i, line in enumerate(tqdm_notebook(inp_json, total=len(target))):\n",
    "        data_json = json.loads(line)\n",
    "        out_vw.write(to_vw_format(data_json, target.iloc[i]['target']))\n",
    "        \n",
    "with codecs.open('../../data/data.hw8/habr_train.vw', 'r', 'utf-8') as f:\n",
    "    for i, _ in enumerate(f):\n",
    "        pass\n",
    "\n",
    "assert i+1 == len(target), 'WARNING: Length of vw data is ' + str(i+1) + \\\n",
    "                                 ' and length of target is ' + str(len(target))\n",
    "    \n",
    "print str(i+1) + ' lines in train set'"
   ]
  },
  {
   "cell_type": "code",
   "execution_count": 139,
   "metadata": {},
   "outputs": [
    {
     "name": "stdout",
     "output_type": "stream",
     "text": [
      "0.693147 |title самопроизвольное разлогинивание |xtags логин login |domain habrahabr.ru |author @ptitov |hubs Хабрахабр |num content_len:0.0 month:7 hour:1 |link:0 |user:0 |video:0 |image:0 |weekday Sat |holiday:1 |description меня такое ощущение что logout время времени происходит самопроизвольно несмотря что чекбокс про логине включен возможно это происходит при\r\n",
      "1.098612 |title stand-along cообщества против сообществ в рамках социальных сетей |xtags сообщества интернет-сообщество социальные сети нишевой бренд |domain geektimes.ru |author @AlexBruce |hubs Чёрная дыра |num content_len:0.0 month:7 hour:14 |link:1 |user:0 |video:0 |image:0 |weekday Sat |holiday:1 |description вот тут подумал смотря скажем комби зачем надо создавать социальную сеть чтобы потом там формировать сообщества ведь сразу возникает вопрос откуда\r\n"
     ]
    }
   ],
   "source": [
    "!head -2 ../../data/data.hw8/habr_train.vw"
   ]
  },
  {
   "cell_type": "code",
   "execution_count": 140,
   "metadata": {},
   "outputs": [
    {
     "data": {
      "application/vnd.jupyter.widget-view+json": {
       "model_id": "a5967f2f33084d26890d420a6f30085f"
      }
     },
     "metadata": {},
     "output_type": "display_data"
    },
    {
     "name": "stdout",
     "output_type": "stream",
     "text": [
      "\n",
      "52913 lines in test set\n"
     ]
    }
   ],
   "source": [
    "with open('../../data/data.hw8/test.json') as inp_json, \\\n",
    "     codecs.open('../../data/data.hw8/habr_test.vw', 'w', 'utf-8') as out_vw:\n",
    "    for line in tqdm_notebook(inp_json, total=len(sub)):\n",
    "        data_json = json.loads(line)\n",
    "        out_vw.write(to_vw_format(data_json))\n",
    "        \n",
    "with codecs.open('../../data/data.hw8/habr_test.vw', 'r', 'utf-8') as f:\n",
    "    for i, _ in enumerate(f):\n",
    "        pass\n",
    "    \n",
    "assert i+1 == len(sub), 'WARNING: Length of vw data is ' + str(i+1) + \\\n",
    "                                 ' and length of submission is ' + str(len(sub))\n",
    "    \n",
    "print str(i+1) + ' lines in test set'"
   ]
  },
  {
   "cell_type": "code",
   "execution_count": 142,
   "metadata": {},
   "outputs": [
    {
     "name": "stdout",
     "output_type": "stream",
     "text": [
      "1 |title день пи! |xtags Пи Pi |domain geektimes.ru |author @Timursan |hubs Чёрная дыра |num content_len:0.0 month:3 hour:3 |link:0 |user:0 |video:0 |image:1 |weekday Sun |holiday:1 |description поздравляю всех днём столько вам успехов сколько знаков после запятой числе\r\n",
      "1 |title скрипт для разбиения образов музыкальных cd на треки и конвертации в формат flac |xtags bash lossless |domain geektimes.ru |author @da3mon |hubs Чёрная дыра |num content_len:0.01 month:3 hour:0 |link:0 |user:0 |video:0 |image:0 |weekday Sun |holiday:1 |description здравствуйте сообщество так сложилось что просторах сети можно найти массу музыки lossless форматах flac monkey audio wavpack лично мне\r\n"
     ]
    }
   ],
   "source": [
    "!head -2 ../../data/data.hw8/habr_test.vw"
   ]
  },
  {
   "cell_type": "code",
   "execution_count": null,
   "metadata": {},
   "outputs": [],
   "source": []
  }
 ],
 "metadata": {
  "kernelspec": {
   "display_name": "Python 2",
   "language": "python",
   "name": "python2"
  },
  "language_info": {
   "codemirror_mode": {
    "name": "ipython",
    "version": 2
   },
   "file_extension": ".py",
   "mimetype": "text/x-python",
   "name": "python",
   "nbconvert_exporter": "python",
   "pygments_lexer": "ipython2",
   "version": "2.7.12"
  }
 },
 "nbformat": 4,
 "nbformat_minor": 2
}
